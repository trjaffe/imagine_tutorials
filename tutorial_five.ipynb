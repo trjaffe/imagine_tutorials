{
 "cells": [
  {
   "cell_type": "markdown",
   "metadata": {},
   "source": [
    "# IMAGINE tutorial 5 -- an almost real IMAGINE pipeline\n",
    "\n",
    "### (Using the WMAP model for the field and the hammurabi simulator.)"
   ]
  },
  {
   "cell_type": "markdown",
   "metadata": {},
   "source": [
    "\n",
    "First, import the necessary packages.  The comments indicate which of teh elements in the above figure these correspond to:"
   ]
  },
  {
   "cell_type": "code",
   "execution_count": 1,
   "metadata": {},
   "outputs": [],
   "source": [
    "import numpy as np\n",
    "import logging as log\n",
    "import healpy as hp\n",
    "\n",
    "## Classes that store Observables (simulated or measured) and covariance matrices\n",
    "from imagine.observables.observable_dict import Simulations, Measurements, Covariances\n",
    "## The likelihood class (obviously the Likelihood element)\n",
    "from imagine.likelihoods.ensemble_likelihood import EnsembleLikelihood\n",
    "\n",
    "## The WMAP field and its factory (one possibilty for the Galaxy-Generator element)\n",
    "from imagine.fields.breg_wmap.hamx_field import BregWMAP\n",
    "from imagine.fields.breg_wmap.hamx_factory import BregWMAPFactory\n",
    "## The random field component\n",
    "from imagine.fields.brnd_es.hamx_field import BrndES\n",
    "from imagine.fields.brnd_es.hamx_factory import BrndESFactory\n",
    "## The simple analytic CRE model\n",
    "from imagine.fields.cre_analytic.hamx_field import CREAna\n",
    "from imagine.fields.cre_analytic.hamx_factory import CREAnaFactory\n",
    "## The YMW16 thermal (free) electron model:\n",
    "from imagine.fields.fereg_ymw16.hamx_field import FEregYMW16\n",
    "from imagine.fields.fereg_ymw16.hamx_factory import FEregYMW16Factory\n",
    "\n",
    "\n",
    "## A flat prior\n",
    "from imagine.priors.flat_prior import FlatPrior\n",
    "## The toy model simulator (one possibility for the Observable-Generator element)\n",
    "from imagine.simulators.hammurabi.hammurabi import Hammurabi \n",
    "## The pyMultiNest sampler (one possibility for the Sampler element)\n",
    "from imagine.pipelines.multinest_pipeline import MultinestPipeline\n",
    "from imagine.pipelines.dynesty_pipeline import DynestyPipeline\n",
    "## A tool to estimate a covariance matrix from an ensemble of stochastic simulations:\n",
    "from imagine.tools.covariance_estimator import oas_cov\n",
    "\n",
    "## visualize posterior with 3rd party corner package (pip install corner)\n",
    "import corner\n",
    "import matplotlib\n",
    "## Mapping internal parameter units to physical units\n",
    "from imagine.tools.carrier_mapper import unity_mapper\n",
    "matplotlib.use('Agg')\n",
    "\n",
    "# call after importing matplotlib\n",
    "%matplotlib inline"
   ]
  },
  {
   "cell_type": "markdown",
   "metadata": {},
   "source": [
    "## step 1, mock data preparation\n",
    "\n",
    "Let's make a very low resolution map of synchrotron total I and Faraday depth from the WMAP model, including a random compnent:"
   ]
  },
  {
   "cell_type": "code",
   "execution_count": 2,
   "metadata": {},
   "outputs": [
    {
     "name": "stdout",
     "output_type": "stream",
     "text": [
      "observable {}\n",
      "|-->  sync {'cue': '1', 'freq': '23', 'nside': '2'}\n",
      "|-->  faraday {'cue': '1', 'nside': '2'}\n"
     ]
    }
   ],
   "source": [
    "## Set the resolution\n",
    "nside=2\n",
    "npix=12*nside**2\n",
    "## All of the other hammurabi parameters are in here, set up for\n",
    "##  both a regular and low-res random grid:\n",
    "xmlpath = './params_hammurabi_regRand.xml'\n",
    "    \n",
    "## An empty measurement set to define what we want:\n",
    "trigger = Measurements()\n",
    "trigger.append(('sync', '23', str(nside), 'I'), np.zeros((1,npix)))  # only I map\n",
    "trigger.append(('fd', 'nan', str(nside), 'nan'), np.zeros((1,npix)))  # only I map\n",
    "\n",
    "## This instance of hammurabi is to mock up some fake data:\n",
    "mocker = Hammurabi(measurements=trigger, xml_path=xmlpath)\n"
   ]
  },
  {
   "cell_type": "markdown",
   "metadata": {},
   "source": [
    "Select the models we want to use:"
   ]
  },
  {
   "cell_type": "code",
   "execution_count": 3,
   "metadata": {},
   "outputs": [],
   "source": [
    "# BregWMAP field\n",
    "paramlist={'b0':3, 'psi0': 27.0, 'psi1': 0.9, 'chi0': 25.0}\n",
    "breg_wmap = BregWMAP(paramlist, 1)\n",
    "\n",
    "# CREAna field\n",
    "paramlist = {'alpha': 3.0, 'beta': 0.0, 'theta': 0.0,\n",
    "             'r0': 5.0, 'z0': 1.0,\n",
    "             'E0': 20.6, 'j0': 0.0217}  # inactive parameters at default\n",
    "cre_ana = CREAna(paramlist, 1)\n",
    "\n",
    "# FEregYMW16 field\n",
    "paramlist = dict() \n",
    "fereg_ymw16 = FEregYMW16(paramlist, 1)\n",
    "\n",
    "## Random field\n",
    "paramlist = {'rms': 3., 'k0': 0.5, 'a0': 1.7, 'rho': 0.5, 'r0': 8., 'z0': 1.}\n",
    "brnd_es = BrndES(paramlist, 1)\n"
   ]
  },
  {
   "cell_type": "code",
   "execution_count": 4,
   "metadata": {},
   "outputs": [
    {
     "data": {
      "image/png": "[encoded data removed]",
      "text/plain": [
       "<Figure size 720x288 with 4 Axes>"
      ]
     },
     "metadata": {
      "needs_background": "light"
     },
     "output_type": "display_data"
    }
   ],
   "source": [
    "## Generate mock data (run hammurabi)\n",
    "outputs = mocker([breg_wmap, brnd_es, cre_ana, fereg_ymw16])\n",
    "## Collect the outputs\n",
    "mockedI = outputs[('sync', '23', str(nside), 'I')].to_global_data()\n",
    "mockedRM = outputs[('fd', 'nan', str(nside), 'nan')].to_global_data()\n",
    "dm=np.mean(mockedI)\n",
    "dv=np.std(mockedI)\n",
    "## Add some noise that's just proportional to the average sync I by the factor err\n",
    "err=0.01\n",
    "dataI = np.vstack([mockedI + np.random.normal(loc=0.,scale=err*dm,size=12*nside**2)])\n",
    "## Just 0.01*50 rad/m^2 of error for noise.  \n",
    "dataRM = np.vstack([mockedRM + np.random.normal(loc=0.,scale=err*50.,size=12*nside**2)])\n",
    "\n",
    "mock_data = Measurements()\n",
    "mock_data.append(('sync', '23', str(nside), 'I'), dataI)\n",
    "mock_data.append(('fd', 'nan', str(nside), 'nan'), dataRM)\n",
    "\n",
    "## Diagonal covariances that only include the noise\n",
    "mock_cov = Covariances()\n",
    "mock_cov.append(('sync', '23', str(nside), 'I'), ((err*dm)**2) * np.eye(12*nside**2) )\n",
    "mock_cov.append(('fd', 'nan', str(nside), 'nan'), ((err*50.)**2) * np.eye(12*nside**2) )\n",
    "\n",
    "## Get the data back out in a plottable format, ie. undo the vstack with an hstack\n",
    "matplotlib.rcParams['figure.figsize'] = (10.0, 4.0)\n",
    "hp.mollview(np.hstack(dataI), norm='hist', cmap='jet',sub=(1,2,1),title=\"total I\",unit='K')\n",
    "hp.mollview(np.hstack(dataRM), norm='hist', cmap='jet',sub=(1,2,2),title=\"RM\",unit='rad/m^2')"
   ]
  },
  {
   "cell_type": "markdown",
   "metadata": {},
   "source": [
    "Now let's set up the pipeline as we have done before, but this time with hammurabi as the simulator:"
   ]
  },
  {
   "cell_type": "code",
   "execution_count": 5,
   "metadata": {},
   "outputs": [
    {
     "name": "stdout",
     "output_type": "stream",
     "text": [
      "observable {}\n",
      "|-->  sync {'cue': '1', 'freq': '23', 'nside': '2'}\n",
      "|-->  faraday {'cue': '1', 'nside': '2'}\n"
     ]
    }
   ],
   "source": [
    "## Use an ensemble to estimate the galactic variance\n",
    "likelihood = EnsembleLikelihood(mock_data, mock_cov)\n",
    "\n",
    "## WMAP B-field, vary only b0 and psi0\n",
    "breg_factory = BregWMAPFactory(active_parameters=('b0', 'psi0'))\n",
    "breg_factory.parameter_ranges = {'b0': (0., 10.), 'psi0': (0., 50.)}\n",
    "## Random B-field, vary only RMS amplitude\n",
    "brnd_factory = BrndESFactory(active_parameters=('rms',))\n",
    "brnd_factory.parameter_ranges = {'rms': (0., 10.)}\n",
    "## Fixed CR model\n",
    "cre_factory = CREAnaFactory()\n",
    "## Fixed FE model\n",
    "fereg_factory = FEregYMW16Factory()\n",
    "factory_list = [breg_factory, brnd_factory, cre_factory, fereg_factory]\n",
    "\n",
    "## Flat prior\n",
    "prior = FlatPrior()\n",
    "## Hammurabi simulator\n",
    "simer = Hammurabi(measurements=mock_data, xml_path=xmlpath)\n",
    "\n",
    "## Compute 10 realizations at each sample:\n",
    "ensemble_size=10\n",
    "\n",
    "## Initialize the pipeline with all of these inputs\n",
    "#pipe = MultinestPipeline(simer, factory_list, likelihood, prior, ensemble_size)\n",
    "pipe = DynestyPipeline(simer, factory_list, likelihood, prior, ensemble_size)\n"
   ]
  },
  {
   "cell_type": "markdown",
   "metadata": {},
   "source": [
    "This run will take a long time to converge.  "
   ]
  },
  {
   "cell_type": "code",
   "execution_count": null,
   "metadata": {},
   "outputs": [],
   "source": [
    "## Verbose logging prints every sample, so this ends up large.\n",
    "##  But it's useful to watch it run.  \n",
    "## NO, this doesn't work in Jupyter, sadly.  \n",
    "#log.basicConfig(filename='./imagine.log', level=log.DEBUG)\n",
    "\n",
    "pipe.sampling_controllers = {'nlive': 400} # mind the difference here\n",
    "\n",
    "## And run it\n",
    "results=pipe()"
   ]
  },
  {
   "cell_type": "code",
   "execution_count": null,
   "metadata": {},
   "outputs": [],
   "source": []
  }
 ],
 "metadata": {
  "kernelspec": {
   "display_name": "Python 3",
   "language": "python",
   "name": "python3"
  },
  "language_info": {
   "codemirror_mode": {
    "name": "ipython",
    "version": 3
   },
   "file_extension": ".py",
   "mimetype": "text/x-python",
   "name": "python",
   "nbconvert_exporter": "python",
   "pygments_lexer": "ipython3",
   "version": "3.6.7"
  }
 },
 "nbformat": 4,
 "nbformat_minor": 2
}
